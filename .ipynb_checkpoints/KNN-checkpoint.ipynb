{
 "cells": [
  {
   "cell_type": "code",
   "execution_count": null,
   "id": "bad846f9-2c79-4a03-ae70-c7b9ac65f8eb",
   "metadata": {},
   "outputs": [],
   "source": [
    "import numpy as np\n",
    "from collections import counter\n",
    "\n",
    "#Since Euclidean distance is global we might want to keep it in a seperate place\n",
    "def euclidean distance(x1,x2):\n",
    "    numpy.sqrt(np.sum(x1-x2)**2)\n",
    "\n",
    "class KNN:\n",
    "    \n",
    "    def __init__(self,k=3):\n",
    "        self.k=k\n",
    "        \n",
    "    def fit(self,X,y):\n",
    "        self.X_train=X\n",
    "        self.y_train=y\n",
    "        \n",
    "    def predict(self,X):\n",
    "        predicted_labels=[self._predict(x) for x in X]\n",
    "        return np.array(predicted_labels)\n",
    "    \n",
    "    def _predict(self,x):\n",
    "        # compute the distance\n",
    "        distances=[euclidean distance(x,x_train) for x_train in self.X_train]\n",
    "        \n",
    "        #get k nearest neighbours\n",
    "        k_indices=np.argsort(distances)[:self.k]\n",
    "        k_nearest_labels=[self.y_train[i] for i in k_indices]\n",
    "        \n",
    "        #majority vote\n",
    "        most_common=Counter(k_nearest_labels.most_common(1))\n",
    "        return most_common[0][0]\n",
    "    \n",
    "        \n",
    "        \n",
    "        \n"
   ]
  }
 ],
 "metadata": {
  "kernelspec": {
   "display_name": "Python 3",
   "language": "python",
   "name": "python3"
  },
  "language_info": {
   "codemirror_mode": {
    "name": "ipython",
    "version": 3
   },
   "file_extension": ".py",
   "mimetype": "text/x-python",
   "name": "python",
   "nbconvert_exporter": "python",
   "pygments_lexer": "ipython3",
   "version": "3.7.11"
  }
 },
 "nbformat": 4,
 "nbformat_minor": 5
}
